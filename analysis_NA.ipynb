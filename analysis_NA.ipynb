{
 "cells": [
  {
   "cell_type": "code",
   "execution_count": 1,
   "id": "0c5664e0",
   "metadata": {},
   "outputs": [
    {
     "name": "stdout",
     "output_type": "stream",
     "text": [
      "Python implementation: CPython\n",
      "Python version       : 3.10.4\n",
      "IPython version      : 8.2.0\n",
      "\n",
      "Compiler    : MSC v.1929 64 bit (AMD64)\n",
      "OS          : Windows\n",
      "Release     : 10\n",
      "Machine     : AMD64\n",
      "Processor   : Intel64 Family 6 Model 140 Stepping 1, GenuineIntel\n",
      "CPU cores   : 8\n",
      "Architecture: 64bit\n",
      "\n",
      "Git hash: \n",
      "\n",
      "watermark : 2.3.0\n",
      "numpy     : 1.24.3\n",
      "pandas    : 1.4.2\n",
      "matplotlib: 3.5.1\n",
      "\n"
     ]
    }
   ],
   "source": [
    "import matplotlib.pyplot as plt\n",
    "import matplotlib.ticker as mticker\n",
    "import numpy as np\n",
    "import pandas as pd\n",
    "from vaderSentiment.vaderSentiment import SentimentIntensityAnalyzer\n",
    "\n",
    "from cb import curlyBrace\n",
    "from statistics_plot import boxplot, bar_and_kde, log_bar\n",
    "from statistics_calc import calc_cohens_d, calc_ttest_df\n",
    "from statistics_calc import perform_kruskal, perform_bartlett, perform_ttest, perform_mann_whitney_u\n",
    "from statistics_calc import parse_significance, parse_pval, strfnumber, strfint, print_median, print_mean, print_IQR, print_CI\n",
    "\n",
    "import watermark\n",
    "\n",
    "plt.style.use('./personal.mplstyle')\n",
    "tab10 = plt.get_cmap(\"tab10\").colors\n",
    "\n",
    "%matplotlib inline\n",
    "%load_ext watermark\n",
    "%watermark -n -v -m -g -iv\n",
    "\n",
    "_COHORTS = [\"A\", \"D\"]\n",
    "_LABELS = {\"A\": r\"$A$\", \"D\": r\"$D$\"}\n",
    "_DEMO = {\"individual\": r\"individual\", \"male\": r\"male\", \"female\": r\"female\", \n",
    "         \"<=18\": r\"18 and below\", \"19-29\": r\"19-29\", \"30-39\": r\"30-39\", \">=40\": r\"40 and up\"}\n",
    "_COLORS = {\"A\": tab10[2], \"D\": tab10[0]}\n",
    "_FILT_DATE = pd.Timestamp(\"1 January 2018\", tz=\"UTC\")\n",
    "_TIME_FORMAT = \"%Y-%m-%d %H:%M:%S %Z\""
   ]
  },
  {
   "cell_type": "markdown",
   "id": "7b31b979",
   "metadata": {},
   "source": [
    "# Loading all information\n",
    "\n",
    "Determine the users that are contained in the $A$ and $D$ cohorts."
   ]
  },
  {
   "cell_type": "code",
   "execution_count": 2,
   "id": "b3e1f81f",
   "metadata": {},
   "outputs": [],
   "source": [
    "demo_groups = pd.read_csv(\"data/demographic_group_membership.tsv\", sep=\"\\t\", index_col=\"user_id\")\n",
    "diag_groups = pd.read_csv(\"data/diagnosis_group_membership.tsv\", sep=\"\\t\", index_col=\"user_id\")\n",
    "membership = diag_groups[diag_groups.any(axis=1)]\n",
    "cohorts = {\"D\": membership[membership[\"group_depression\"]].index, \"A\": membership[membership[\"group_anxiety\"]].index}"
   ]
  },
  {
   "cell_type": "markdown",
   "id": "55feaedc",
   "metadata": {},
   "source": [
    "Load all VADER scores extracted from the tweets"
   ]
  },
  {
   "cell_type": "code",
   "execution_count": 3,
   "id": "8c5a347e",
   "metadata": {},
   "outputs": [],
   "source": [
    "T = pd.read_csv(\"data/VADER_scores.tsv.gz\", sep=\"\\t\", index_col=\"tweet_id\")\n",
    "T[\"created_at\"] = pd.to_datetime(T[\"created_at\"])\n",
    "time_filt = T.created_at >= _FILT_DATE\n",
    "scores = {v: T[T.user_id.isin(cohorts[v]) & time_filt] for v in _COHORTS}"
   ]
  },
  {
   "cell_type": "markdown",
   "id": "58638583",
   "metadata": {},
   "source": [
    "Calculate the per user statistics for both the VADER scores and activity."
   ]
  },
  {
   "cell_type": "code",
   "execution_count": 4,
   "id": "6c422d04",
   "metadata": {},
   "outputs": [],
   "source": [
    "pu = {v: scores[v].groupby(\"user_id\") for v in _COHORTS}\n",
    "user_avg = {}\n",
    "user_std = {}\n",
    "user_act = {v: pu[v].count()[\"created_at\"] / (pu[v].max()[\"created_at\"] - pu[v].min()[\"created_at\"]).dt.days for v in _COHORTS}\n",
    "for v in _COHORTS:\n",
    "    user_avg[v] = pu[v].mean()[\"VADER_NEG\"]\n",
    "    user_std[v] = pu[v].std()[\"VADER_NEG\"]"
   ]
  },
  {
   "cell_type": "markdown",
   "id": "80d5aab6",
   "metadata": {},
   "source": [
    "Determine the demographic distribution of our both cohorts and the comorbid cohort (which we exclude from the analysis)"
   ]
  },
  {
   "cell_type": "code",
   "execution_count": 5,
   "id": "c8d26268",
   "metadata": {},
   "outputs": [],
   "source": [
    "idx = [\"{} cohort\".format(_LABELS[c]) for c in _COHORTS] + [\"$C$ cohort\", \"Total\"]\n",
    "demo_dist = pd.DataFrame(index=idx, columns=_DEMO.values())\n",
    "\n",
    "group = {\"A\": \"group_anxiety\", \"D\": \"group_depression\"}\n",
    "groups = [group[c] for c in _COHORTS]\n",
    "for d in _DEMO:\n",
    "    for c in _COHORTS:\n",
    "        cnt = (membership[group[c]] & demo_groups[d] & demo_groups[\"individual\"]).sum()\n",
    "        demo_dist.loc[\"{} cohort\".format(_LABELS[c]), _DEMO[d]] = \"{:d}\".format(cnt)\n",
    "        \n",
    "    C_cnt = (membership[\"comorbid\"] & demo_groups[d] & demo_groups[\"individual\"]).sum()\n",
    "    demo_dist.loc[\"$C$ cohort\", _DEMO[d]] = \"{:d}\".format(C_cnt)\n",
    "        \n",
    "    total = (demo_groups[d] & demo_groups[\"individual\"] & (membership[groups].sum(axis=1) > 0)).sum()\n",
    "    demo_dist.loc[\"Total\", _DEMO[d]] = \"{:d}\".format(total)"
   ]
  },
  {
   "cell_type": "markdown",
   "id": "3786cef9",
   "metadata": {},
   "source": [
    "Loading the bootstrap samples."
   ]
  },
  {
   "cell_type": "code",
   "execution_count": 6,
   "id": "81ec06fb",
   "metadata": {},
   "outputs": [],
   "source": [
    "samples = {\n",
    "    \"D\": pd.read_csv(\"data/bootstrap_samples_D.tsv.gz\", compression=\"gzip\", sep=\"\\t\", index_col=0), \n",
    "    \"A\": pd.read_csv(\"data/bootstrap_samples_A.tsv.gz\", compression=\"gzip\", sep=\"\\t\", index_col=0)\n",
    "}"
   ]
  },
  {
   "cell_type": "markdown",
   "id": "516e7092",
   "metadata": {},
   "source": [
    "# Data for the paper\n",
    "\n",
    "This section prints all information that should be copied to the paper.\n",
    "\n",
    "## Abstract"
   ]
  },
  {
   "cell_type": "code",
   "execution_count": 7,
   "id": "a23e2399",
   "metadata": {},
   "outputs": [
    {
     "name": "stdout",
     "output_type": "stream",
     "text": [
      "1853 individuals\n",
      "$A$ cohort, $n=896$\n",
      "$D$ cohort, $n=957$\n",
      "$^{***}$, $U=367210, p<.001, r=0.14$, $d=0.25$\n",
      "$^{***}$, $U=377368, p<.001, r=0.12$, $d=0.21$\n"
     ]
    }
   ],
   "source": [
    "a = demo_dist.loc[\"Total\", \"individual\"]\n",
    "b = demo_dist.loc[\"$A$ cohort\", \"individual\"]\n",
    "c = demo_dist.loc[\"$D$ cohort\", \"individual\"]\n",
    "\n",
    "MWU = perform_mann_whitney_u(user_std[\"A\"], user_std[\"D\"])\n",
    "cohens_d = strfnumber(calc_cohens_d(user_std[\"A\"], user_std[\"D\"]))\n",
    "sign = parse_significance(perform_mann_whitney_u(user_std[\"A\"], user_std[\"D\"], strfy=False)[0].pvalue)\n",
    "d = \"${}$, {}, $d={}$\".format(sign, MWU, cohens_d)\n",
    "\n",
    "MWU = perform_mann_whitney_u(user_avg[\"A\"], user_avg[\"D\"])\n",
    "cohens_d = strfnumber(calc_cohens_d(user_avg[\"A\"], user_avg[\"D\"]))\n",
    "sign = parse_significance(perform_mann_whitney_u(user_avg[\"A\"], user_avg[\"D\"], strfy=False)[0].pvalue)\n",
    "e = \"${}$, {}, $d={}$\".format(sign, MWU, cohens_d)\n",
    "\n",
    "print(\"\"\"{} individuals\n",
    "$A$ cohort, $n={}$\n",
    "$D$ cohort, $n={}$\n",
    "{}\n",
    "{}\"\"\".format(a,b,c,d,e))"
   ]
  },
  {
   "cell_type": "markdown",
   "id": "baa53903",
   "metadata": {},
   "source": [
    "## Methods\n",
    "\n",
    "### Data Gathering"
   ]
  },
  {
   "cell_type": "code",
   "execution_count": 8,
   "id": "411577d8",
   "metadata": {},
   "outputs": [
    {
     "name": "stdout",
     "output_type": "stream",
     "text": [
      "$n=1853$\n",
      "$N=2492480$\n",
      "between January 01 2018 and July 08 2020\n",
      "Table 1: Diagnoses number overview:\n",
      "phobia              11\n",
      "dysthymia           15\n",
      "SAD                 8\n",
      "panic               69\n",
      "agoraphobia         16\n",
      "PDD                 2\n",
      "OCD                 237\n",
      "GAD                 168\n",
      "anxiety             1098\n",
      "depression          1474\n",
      "Total               2389\n"
     ]
    }
   ],
   "source": [
    "a = demo_dist.loc[\"Total\", \"individual\"]\n",
    "b = scores[\"A\"].index.union(scores[\"D\"].index).size\n",
    "\n",
    "c = min([scores[c].created_at.min() for c in _COHORTS]).strftime(\"%B %d %Y\")\n",
    "d = max([scores[c].created_at.max() for c in _COHORTS]).strftime(\"%B %d %Y\")\n",
    "\n",
    "num_diag = membership[[c for c in membership.columns if c not in [\"group_depression\", \"group_anxiety\", \"comorbid\"]]].sum()\n",
    "e = \"\\n\".join([\"{}{}\".format(k.ljust(20, \" \"),v) for k,v in list(num_diag.items()) + [(\"Total\", membership.index.size)]])\n",
    "\n",
    "print(\"\"\"$n={}$\n",
    "$N={}$\n",
    "between {} and {}\n",
    "Table 1: Diagnoses number overview:\n",
    "{}\"\"\".format(a,b,c,d,e))"
   ]
  },
  {
   "cell_type": "markdown",
   "id": "82c043ae",
   "metadata": {},
   "source": [
    "### Cohort Construction"
   ]
  },
  {
   "cell_type": "code",
   "execution_count": 9,
   "id": "a65e111f",
   "metadata": {},
   "outputs": [
    {
     "name": "stdout",
     "output_type": "stream",
     "text": [
      "Comorbid: 536 individuals\n",
      "$A$ cohort, $n=896$\n",
      "$D$ cohort, $n=957$\n"
     ]
    }
   ],
   "source": [
    "a = demo_dist.loc[\"$C$ cohort\", \"individual\"]\n",
    "b = demo_dist.loc[\"$A$ cohort\", \"individual\"]\n",
    "c = demo_dist.loc[\"$D$ cohort\", \"individual\"]\n",
    "\n",
    "print(\"\"\"Comorbid: {} individuals\n",
    "$A$ cohort, $n={}$\n",
    "$D$ cohort, $n={}$\"\"\".format(a,b,c))"
   ]
  },
  {
   "cell_type": "markdown",
   "id": "457fe486",
   "metadata": {},
   "source": [
    "### Demographic Information"
   ]
  },
  {
   "cell_type": "code",
   "execution_count": 10,
   "id": "05bca9b9",
   "metadata": {},
   "outputs": [
    {
     "data": {
      "text/html": [
       "<div>\n",
       "<style scoped>\n",
       "    .dataframe tbody tr th:only-of-type {\n",
       "        vertical-align: middle;\n",
       "    }\n",
       "\n",
       "    .dataframe tbody tr th {\n",
       "        vertical-align: top;\n",
       "    }\n",
       "\n",
       "    .dataframe thead th {\n",
       "        text-align: right;\n",
       "    }\n",
       "</style>\n",
       "<table border=\"1\" class=\"dataframe\">\n",
       "  <thead>\n",
       "    <tr style=\"text-align: right;\">\n",
       "      <th></th>\n",
       "      <th>individual</th>\n",
       "      <th>male</th>\n",
       "      <th>female</th>\n",
       "      <th>18 and below</th>\n",
       "      <th>19-29</th>\n",
       "      <th>30-39</th>\n",
       "      <th>40 and up</th>\n",
       "    </tr>\n",
       "  </thead>\n",
       "  <tbody>\n",
       "    <tr>\n",
       "      <th>$A$ cohort</th>\n",
       "      <td>896</td>\n",
       "      <td>215</td>\n",
       "      <td>543</td>\n",
       "      <td>205</td>\n",
       "      <td>249</td>\n",
       "      <td>97</td>\n",
       "      <td>55</td>\n",
       "    </tr>\n",
       "    <tr>\n",
       "      <th>$D$ cohort</th>\n",
       "      <td>957</td>\n",
       "      <td>277</td>\n",
       "      <td>504</td>\n",
       "      <td>225</td>\n",
       "      <td>232</td>\n",
       "      <td>91</td>\n",
       "      <td>72</td>\n",
       "    </tr>\n",
       "    <tr>\n",
       "      <th>Total</th>\n",
       "      <td>1853</td>\n",
       "      <td>492</td>\n",
       "      <td>1047</td>\n",
       "      <td>430</td>\n",
       "      <td>481</td>\n",
       "      <td>188</td>\n",
       "      <td>127</td>\n",
       "    </tr>\n",
       "  </tbody>\n",
       "</table>\n",
       "</div>"
      ],
      "text/plain": [
       "           individual male female 18 and below 19-29 30-39 40 and up\n",
       "$A$ cohort        896  215    543          205   249    97        55\n",
       "$D$ cohort        957  277    504          225   232    91        72\n",
       "Total            1853  492   1047          430   481   188       127"
      ]
     },
     "execution_count": 10,
     "metadata": {},
     "output_type": "execute_result"
    }
   ],
   "source": [
    "demo_dist.loc[[\"$A$ cohort\", \"$D$ cohort\", \"Total\"], :]"
   ]
  },
  {
   "cell_type": "markdown",
   "id": "274a824f",
   "metadata": {},
   "source": [
    "### Sentiment analysis as an indicator of affect"
   ]
  },
  {
   "cell_type": "code",
   "execution_count": 11,
   "id": "e4331c9a",
   "metadata": {},
   "outputs": [
    {
     "name": "stdout",
     "output_type": "stream",
     "text": [
      "Gloomy day, only despair and disappointment.      : {'neg': 0.706, 'neu': 0.294, 'pos': 0.0, 'compound': -0.7351}\n",
      "Embracing beauty, surrounded by joy and love.     : {'neg': 0.0, 'neu': 0.253, 'pos': 0.747, 'compound': 0.9153}\n"
     ]
    }
   ],
   "source": [
    "VADER = SentimentIntensityAnalyzer()\n",
    "examples = [\"Gloomy day, only despair and disappointment.\", \"Embracing beauty, surrounded by joy and love.\"]\n",
    "for ex in examples:\n",
    "    print(\"{:50s}: {}\".format(ex, str(VADER.polarity_scores(ex))))\n",
    "# {ex: VADER.polarity_scores(ex) for ex in examples}"
   ]
  },
  {
   "cell_type": "markdown",
   "id": "9dc8bbfb",
   "metadata": {},
   "source": [
    "## Results\n",
    "### Similar online activity levels of $A$ and $D$ cohort"
   ]
  },
  {
   "cell_type": "code",
   "execution_count": 12,
   "id": "b432bfb5",
   "metadata": {},
   "outputs": [
    {
     "name": "stdout",
     "output_type": "stream",
     "text": [
      "$Mdn=4.02$ and $Mdn=3.94$ tweets per day for the $A$ and $D$ cohorts respectively\n",
      "Mann-Whitney U test ($U=441351, p=.273, r=-0.029$)\n"
     ]
    }
   ],
   "source": [
    "a = print_median(user_act[\"A\"])\n",
    "b = print_median(user_act[\"D\"])\n",
    "c = perform_mann_whitney_u(user_act[\"A\"], user_act[\"D\"])\n",
    "\n",
    "print(\"\"\"{} and {} tweets per day for the $A$ and $D$ cohorts respectively\n",
    "Mann-Whitney U test ({})\"\"\".format(a,b,c))"
   ]
  },
  {
   "cell_type": "markdown",
   "id": "36ca01c0",
   "metadata": {},
   "source": [
    "### Affect levels between $A$ and $D$ cohorts"
   ]
  },
  {
   "cell_type": "code",
   "execution_count": 13,
   "id": "8f85c922",
   "metadata": {},
   "outputs": [
    {
     "name": "stdout",
     "output_type": "stream",
     "text": [
      "($^{***}$, $U=377368, p<.001, r=0.12$, $d=0.21$)\n",
      "$M=0.083$ and $M=0.089$ for the $A$ and $D$ cohorts, respectively\n"
     ]
    }
   ],
   "source": [
    "MWU = perform_mann_whitney_u(user_avg[\"A\"], user_avg[\"D\"])\n",
    "cohens_d = strfnumber(calc_cohens_d(user_avg[\"A\"], user_avg[\"D\"]))\n",
    "sign = parse_significance(perform_mann_whitney_u(user_avg[\"A\"], user_avg[\"D\"], strfy=False)[0].pvalue)\n",
    "a = \"${}$, {}, $d={}$\".format(sign, MWU, cohens_d)\n",
    "\n",
    "b = print_mean(user_avg[\"A\"])\n",
    "c = print_mean(user_avg[\"D\"])\n",
    "\n",
    "print(\"\"\"({})\n",
    "{} and {} for the $A$ and $D$ cohorts, respectively\"\"\".format(a,b,c))"
   ]
  },
  {
   "cell_type": "markdown",
   "id": "771749ca",
   "metadata": {},
   "source": [
    "### Figure 1"
   ]
  },
  {
   "cell_type": "code",
   "execution_count": 14,
   "id": "180fcb9f",
   "metadata": {
    "scrolled": false
   },
   "outputs": [
    {
     "name": "stdout",
     "output_type": "stream",
     "text": [
      "Figure 1 Caption: $n=896$ and $n=957$\n"
     ]
    },
    {
     "data": {
      "image/png": "[encoded data removed]",
      "text/plain": [
       "<Figure size 1152x432 with 4 Axes>"
      ]
     },
     "metadata": {
      "needs_background": "light"
     },
     "output_type": "display_data"
    }
   ],
   "source": [
    "a = demo_dist.loc[\"$A$ cohort\", \"individual\"]\n",
    "b = demo_dist.loc[\"$D$ cohort\", \"individual\"]\n",
    "\n",
    "print(\"\"\"Figure 1 Caption: $n={}$ and $n={}$\"\"\".format(a,b))\n",
    "\n",
    "figP = plt.figure(figsize=(16, 6))\n",
    "gsP = figP.add_gridspec(6, 2)\n",
    "_DIST_PAPER = {\"STD\": gsP[:4, 1], \"AVG\": gsP[:4, 0]}\n",
    "_BAR_PAPER = {\"STD\": gsP[4:6, 1], \"AVG\": gsP[4:6, 0]}\n",
    "_XLIMSP = {\"STD\": (0.0, 0.3), \"AVG\": (0.0, 0.23)}\n",
    "_YLIMSP = {\"STD\": 20, \"AVG\": 23}\n",
    "_XCB = {\"STD\": 0.26, \"AVG\": 0.205}\n",
    "_TITLESP = {\n",
    "    \"AVG\": r\"Level (average)\",\n",
    "    \"STD\": r\"Spread (standard deviation)\",\n",
    "    \n",
    "}\n",
    "_DATAP = {\n",
    "    \"STD\": user_std, \n",
    "    \"AVG\": user_avg\n",
    "}\n",
    "\n",
    "for opt in [\"AVG\", \"STD\"]:    \n",
    "    ax = figP.add_subplot(_DIST_PAPER[opt])\n",
    "    bx = figP.add_subplot(_BAR_PAPER[opt])\n",
    "    for x, c in enumerate(_COHORTS):\n",
    "        data = _DATAP[opt][c]\n",
    "    \n",
    "        xl, xr = _XLIMSP[opt]\n",
    "\n",
    "        ax = bar_and_kde(ax, data, xl, xr, step=(xr - xl) / 50, kde_step=0.001, color=_COLORS[c])\n",
    "        ax.set_xlim(xl, xr)\n",
    "        ax.set_ylim(0, _YLIMSP[opt])\n",
    "        ax.tick_params(which=\"both\", top=True, bottom=True, left=True, right=True,\n",
    "                       labelbottom=False, labeltop=True, labelleft=True, labelright=True)\n",
    "        bx = boxplot(bx, data, x * 0.5, dash=\"median\", color=_COLORS[c])\n",
    "        bx.set_xlim(xl, xr)\n",
    "        bx.tick_params(which=\"both\", top=True, bottom=True, left=(opt==\"AVG\"), right=(opt==\"STD\"),\n",
    "                       labelbottom=True, labeltop=False, labelleft=(opt==\"AVG\"), labelright=(opt==\"STD\"))\n",
    "        bx.yaxis.set_minor_locator(mticker.NullLocator())\n",
    "        bx.set_yticks([_ * 0.5 for _, c in enumerate(_COHORTS)])\n",
    "        bx.set_yticklabels([\"{} cohort\".format(_LABELS[_]) for _ in _COHORTS])\n",
    "\n",
    "    ax.set_title(_TITLESP[\"{}\".format(opt)], y=1.2)\n",
    "    ax.set_ylabel(r\"Density\", fontsize=28)\n",
    "    if opt == \"STD\":\n",
    "        ax.yaxis.set_label_position(\"right\")\n",
    "\n",
    "    C1 = _DATAP[opt][\"A\"]\n",
    "    C2 = _DATAP[opt][\"D\"]\n",
    "\n",
    "    AD, r = perform_mann_whitney_u(C1, C2, strfy=False)\n",
    "    cohens_d = strfnumber(calc_cohens_d(C1, C2))\n",
    "    sign = \"${}$\".format(parse_significance(AD.pvalue))\n",
    "    ADs = \"{}, $d={}$\".format(perform_mann_whitney_u(C1, C2), cohens_d)\n",
    "    ax.annotate(r\"$A$ vs. $D$: {}\".format(ADs), (0.5, 0.94), xycoords=\"axes fraction\",\n",
    "                size=18, va=\"top\", ha=\"center\", bbox=dict(boxstyle=\"round\", pad=0.3, fc=\"w\", ec=\"0.7\"))\n",
    "\n",
    "    curlyBrace(figP, bx, (_XCB[opt], 0.5), (_XCB[opt], 0), color=\"k\", str_text=sign, fontdict={\"size\": 18, \"rotation\": 90})\n",
    "\n",
    "figP.tight_layout()\n",
    "figP.savefig(\"figures/NA_D_vs_A.pdf\", dpi=600)"
   ]
  },
  {
   "cell_type": "markdown",
   "id": "99da1551",
   "metadata": {},
   "source": [
    "### Affect variability between $A$ and $D$ cohorts"
   ]
  },
  {
   "cell_type": "code",
   "execution_count": 15,
   "id": "376a5440",
   "metadata": {},
   "outputs": [
    {
     "name": "stdout",
     "output_type": "stream",
     "text": [
      "$M=0.13$ and $M=0.14$ for the $A$ and $D$ cohorts respectively\n",
      "($^{***}$, $U=367210, p<.001, r=0.14$, $d=0.25$)\n"
     ]
    }
   ],
   "source": [
    "a = print_mean(user_std[\"A\"])\n",
    "b = print_mean(user_std[\"D\"])\n",
    "\n",
    "MWU = perform_mann_whitney_u(user_std[\"A\"], user_std[\"D\"])\n",
    "cohens_d = strfnumber(calc_cohens_d(user_std[\"A\"], user_std[\"D\"]))\n",
    "sign = parse_significance(perform_mann_whitney_u(user_std[\"A\"], user_std[\"D\"], strfy=False)[0].pvalue)\n",
    "c = \"${}$, {}, $d={}$\".format(sign, MWU, cohens_d)\n",
    "\n",
    "print(\"\"\"{} and {} for the $A$ and $D$ cohorts respectively\n",
    "({})\"\"\".format(a,b,c))"
   ]
  },
  {
   "cell_type": "markdown",
   "id": "8d9a9832",
   "metadata": {},
   "source": [
    "### Variations between individuals"
   ]
  },
  {
   "cell_type": "code",
   "execution_count": 16,
   "id": "317f8782",
   "metadata": {},
   "outputs": [
    {
     "name": "stdout",
     "output_type": "stream",
     "text": [
      "Performing an independent t-test\n",
      "Performing an independent t-test\n",
      "Performing an independent t-test\n"
     ]
    },
    {
     "data": {
      "text/html": [
       "<div>\n",
       "<style scoped>\n",
       "    .dataframe tbody tr th:only-of-type {\n",
       "        vertical-align: middle;\n",
       "    }\n",
       "\n",
       "    .dataframe tbody tr th {\n",
       "        vertical-align: top;\n",
       "    }\n",
       "\n",
       "    .dataframe thead th {\n",
       "        text-align: right;\n",
       "    }\n",
       "</style>\n",
       "<table border=\"1\" class=\"dataframe\">\n",
       "  <thead>\n",
       "    <tr style=\"text-align: right;\">\n",
       "      <th></th>\n",
       "      <th></th>\n",
       "      <th>median</th>\n",
       "      <th>CI</th>\n",
       "      <th>significance</th>\n",
       "    </tr>\n",
       "  </thead>\n",
       "  <tbody>\n",
       "    <tr>\n",
       "      <th rowspan=\"2\" valign=\"top\">ACTIVITY</th>\n",
       "      <th>$A$</th>\n",
       "      <td>$Mdn=4.02$</td>\n",
       "      <td>$[3.51, 4.57]$</td>\n",
       "      <td>$ns$</td>\n",
       "    </tr>\n",
       "    <tr>\n",
       "      <th>$D$</th>\n",
       "      <td>$Mdn=3.94$</td>\n",
       "      <td>$[3.37, 4.44]$</td>\n",
       "      <td>NaN</td>\n",
       "    </tr>\n",
       "    <tr>\n",
       "      <th rowspan=\"2\" valign=\"top\">VADER_NEG_AVG</th>\n",
       "      <th>$A$</th>\n",
       "      <td>$Mdn=0.083$</td>\n",
       "      <td>$[0.082, 0.085]$</td>\n",
       "      <td>$^{***}$</td>\n",
       "    </tr>\n",
       "    <tr>\n",
       "      <th>$D$</th>\n",
       "      <td>$Mdn=0.089$</td>\n",
       "      <td>$[0.087, 0.091]$</td>\n",
       "      <td>NaN</td>\n",
       "    </tr>\n",
       "    <tr>\n",
       "      <th rowspan=\"2\" valign=\"top\">VADER_NEG_STD</th>\n",
       "      <th>$A$</th>\n",
       "      <td>$Mdn=0.13$</td>\n",
       "      <td>$[0.13, 0.13]$</td>\n",
       "      <td>$^{***}$</td>\n",
       "    </tr>\n",
       "    <tr>\n",
       "      <th>$D$</th>\n",
       "      <td>$Mdn=0.14$</td>\n",
       "      <td>$[0.13, 0.14]$</td>\n",
       "      <td>NaN</td>\n",
       "    </tr>\n",
       "  </tbody>\n",
       "</table>\n",
       "</div>"
      ],
      "text/plain": [
       "                        median                CI significance\n",
       "ACTIVITY      $A$   $Mdn=4.02$    $[3.51, 4.57]$         $ns$\n",
       "              $D$   $Mdn=3.94$    $[3.37, 4.44]$          NaN\n",
       "VADER_NEG_AVG $A$  $Mdn=0.083$  $[0.082, 0.085]$     $^{***}$\n",
       "              $D$  $Mdn=0.089$  $[0.087, 0.091]$          NaN\n",
       "VADER_NEG_STD $A$   $Mdn=0.13$    $[0.13, 0.13]$     $^{***}$\n",
       "              $D$   $Mdn=0.14$    $[0.13, 0.14]$          NaN"
      ]
     },
     "execution_count": 16,
     "metadata": {},
     "output_type": "execute_result"
    }
   ],
   "source": [
    "_VARIANTS = {\n",
    "    \"ACTIVITY\": user_act,\n",
    "    \"VADER_NEG_AVG\": user_avg,\n",
    "    \"VADER_NEG_STD\": user_std\n",
    "}\n",
    "\n",
    "idx = pd.MultiIndex.from_product([[_ for _ in _VARIANTS], [_LABELS[c] for c in _COHORTS]])\n",
    "table = pd.DataFrame(index=idx, columns=[\"median\", \"CI\", \"significance\"])\n",
    "\n",
    "for val in _VARIANTS:\n",
    "    data = _VARIANTS[val]\n",
    "    \n",
    "    C1 = data[\"A\"]\n",
    "    C2 = data[\"D\"]\n",
    "    \n",
    "    evar = perform_bartlett(C1, C2, strfy=False).pvalue >= 0.05\n",
    "    \n",
    "    AD = perform_ttest(C1, C2, strfy=False, equal_var=evar)\n",
    "    \n",
    "    for num, c in enumerate(_COHORTS):\n",
    "        if val == \"ACTIVITY\":\n",
    "            bootstrap = samples[c].apply(lambda col: data[c].loc[col].median())\n",
    "        else:\n",
    "            bootstrap = samples[c].apply(lambda col: data[c].loc[col].mean())\n",
    "            \n",
    "        table.loc[(val, _LABELS[c]), \"median\"] = print_median(bootstrap)\n",
    "        table.loc[(val, _LABELS[c]), \"CI\"] = print_CI(bootstrap, ntrvl_only=True)\n",
    "        \n",
    "        if num == 0:\n",
    "            table.loc[(val, _LABELS[c]), \"significance\"] = \"${}$\".format(parse_significance(AD.pvalue))\n",
    "\n",
    "\n",
    "table.to_csv(\"results_table.tex\", sep=\"&\")\n",
    "table"
   ]
  },
  {
   "cell_type": "code",
   "execution_count": null,
   "id": "a3c4c220",
   "metadata": {},
   "outputs": [],
   "source": []
  }
 ],
 "metadata": {
  "kernelspec": {
   "display_name": "Python 3 (ipykernel)",
   "language": "python",
   "name": "python3"
  },
  "language_info": {
   "codemirror_mode": {
    "name": "ipython",
    "version": 3
   },
   "file_extension": ".py",
   "mimetype": "text/x-python",
   "name": "python",
   "nbconvert_exporter": "python",
   "pygments_lexer": "ipython3",
   "version": "3.10.4"
  }
 },
 "nbformat": 4,
 "nbformat_minor": 5
}
